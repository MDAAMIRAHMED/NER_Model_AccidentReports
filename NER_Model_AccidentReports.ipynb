{
  "nbformat": 4,
  "nbformat_minor": 0,
  "metadata": {
    "colab": {
      "provenance": [],
      "authorship_tag": "ABX9TyO0RnJtVOoy8lR2OdsYjWEU"
    },
    "kernelspec": {
      "name": "python3",
      "display_name": "Python 3"
    },
    "language_info": {
      "name": "python"
    }
  },
  "cells": [
    {
      "cell_type": "markdown",
      "source": [
        "# Importing Libraries"
      ],
      "metadata": {
        "id": "XZzDrJURYqjv"
      }
    },
    {
      "cell_type": "code",
      "execution_count": 8,
      "metadata": {
        "id": "ey4OKwq0YkfI"
      },
      "outputs": [],
      "source": [
        "import spacy\n",
        "from spacy.tokens import DocBin\n",
        "from spacy.util import filter_spans\n",
        "from sklearn.model_selection import train_test_split\n",
        "from tqdm import tqdm"
      ]
    },
    {
      "cell_type": "code",
      "source": [
        "!python -m spacy download en_core_web_lg"
      ],
      "metadata": {
        "colab": {
          "base_uri": "https://localhost:8080/"
        },
        "id": "MkbLAc5WdjXj",
        "outputId": "c6b0339e-1b5e-4963-c9c4-a4b1d084b93d"
      },
      "execution_count": 23,
      "outputs": [
        {
          "output_type": "stream",
          "name": "stdout",
          "text": [
            "Collecting en-core-web-lg==3.8.0\n",
            "  Downloading https://github.com/explosion/spacy-models/releases/download/en_core_web_lg-3.8.0/en_core_web_lg-3.8.0-py3-none-any.whl (400.7 MB)\n",
            "\u001b[2K     \u001b[90m━━━━━━━━━━━━━━━━━━━━━━━━━━━━━━━━━━━━━━━\u001b[0m \u001b[32m400.7/400.7 MB\u001b[0m \u001b[31m1.5 MB/s\u001b[0m eta \u001b[36m0:00:00\u001b[0m\n",
            "\u001b[?25hInstalling collected packages: en-core-web-lg\n",
            "Successfully installed en-core-web-lg-3.8.0\n",
            "\u001b[38;5;2m✔ Download and installation successful\u001b[0m\n",
            "You can now load the package via spacy.load('en_core_web_lg')\n",
            "\u001b[38;5;3m⚠ Restart to reload dependencies\u001b[0m\n",
            "If you are in a Jupyter or Colab notebook, you may need to restart Python in\n",
            "order to load all the package's dependencies. You can do this by selecting the\n",
            "'Restart kernel' or 'Restart runtime' option.\n"
          ]
        }
      ]
    },
    {
      "cell_type": "markdown",
      "source": [
        "# Importing Dataset"
      ],
      "metadata": {
        "id": "p7QBYb8GY--F"
      }
    },
    {
      "cell_type": "code",
      "source": [
        "import json\n",
        "from datetime import datetime\n",
        "# dataset-link: https://huggingface.co/datasets/MongoDB/accident_reports/blob/main/accidents_reports.json\n",
        "with open('/content/accidents_reports.json', 'r') as f:\n",
        "  data = json.load(f)"
      ],
      "metadata": {
        "id": "BAPLxYAeY-S5"
      },
      "execution_count": 9,
      "outputs": []
    },
    {
      "cell_type": "code",
      "source": [
        "data[0]"
      ],
      "metadata": {
        "colab": {
          "base_uri": "https://localhost:8080/"
        },
        "id": "-G1brmz3ZgOu",
        "outputId": "5ccef814-e61f-4f8c-e5dc-13a75ccf0392"
      },
      "execution_count": 10,
      "outputs": [
        {
          "output_type": "execute_result",
          "data": {
            "text/plain": [
              "{'incidentId': 'INC-2024-001',\n",
              " 'dateTime': '2024-03-08T09:01:41.295149',\n",
              " 'location': {'site': 'Factory B', 'region': 'East'},\n",
              " 'type': 'Equipment Failure',\n",
              " 'description': 'Equipment Failure occurred at Factory B.',\n",
              " 'severityLevel': 'low',\n",
              " 'relatedProcedures': ['CHEM-012'],\n",
              " 'immediateActions': 'Contained spill and alerted hazardous material team',\n",
              " 'rootCauses': [{'description': 'Inadequate safety checks',\n",
              "   'category': 'procedural error',\n",
              "   'preventionRecommendations': 'Review and update safety procedures'}]}"
            ]
          },
          "metadata": {},
          "execution_count": 10
        }
      ]
    },
    {
      "cell_type": "code",
      "source": [
        "# Function to extract entities and format sentence\n",
        "def convert_to_spacy_format(data):\n",
        "    training_data = []\n",
        "\n",
        "    for incident in data:\n",
        "        # Parse date and time\n",
        "        dt = datetime.fromisoformat(incident[\"dateTime\"])\n",
        "        date_str = dt.strftime(\"%B %d, %Y\")  # \"March 08, 2024\"\n",
        "        time_str = dt.strftime(\"%H:%M\")      # \"09:01\"\n",
        "\n",
        "        text = (\n",
        "            f\"On {date_str} at {time_str}, a {incident['type']} occurred at \"\n",
        "            f\"{incident['location']['site']} in the {incident['location']['region']} region. \"\n",
        "            f\"The incident ID is {incident['incidentId']}. The severity was {incident['severityLevel']}. \"\n",
        "            f\"Immediate action: {incident['immediateActions']}. Related procedures: {', '.join(incident['relatedProcedures'])}. \"\n",
        "        )\n",
        "\n",
        "        # Add root causes\n",
        "        for cause in incident[\"rootCauses\"]:\n",
        "            text += (\n",
        "                f\"Root cause: {cause['description']} (Category: {cause['category']}). \"\n",
        "                f\"Recommendation: {cause['preventionRecommendations']}. \"\n",
        "            )\n",
        "\n",
        "        # Find entity spans (simple string matching)\n",
        "        entities = []\n",
        "        entity_map = {\n",
        "            \"INCIDENT_ID\": incident[\"incidentId\"],\n",
        "            \"DATE\": date_str,\n",
        "            \"TIME\": time_str,\n",
        "            \"SITE\": incident[\"location\"][\"site\"],\n",
        "            \"REGION\": incident[\"location\"][\"region\"],\n",
        "            \"INCIDENT_TYPE\": incident[\"type\"],\n",
        "            \"SEVERITY_LEVEL\": incident[\"severityLevel\"],\n",
        "        }\n",
        "\n",
        "        for label, value in entity_map.items():\n",
        "            start = text.find(value)\n",
        "            if start != -1:\n",
        "                end = start + len(value)\n",
        "                entities.append((start, end, label))\n",
        "\n",
        "        # Related Procedures\n",
        "        for proc in incident[\"relatedProcedures\"]:\n",
        "            start = text.find(proc)\n",
        "            if start != -1:\n",
        "                entities.append((start, start + len(proc), \"PROCEDURE_CODE\"))\n",
        "\n",
        "        # Root causes\n",
        "        for cause in incident[\"rootCauses\"]:\n",
        "            desc = cause[\"description\"]\n",
        "            cat = cause[\"category\"]\n",
        "            rec = cause[\"preventionRecommendations\"]\n",
        "\n",
        "            for val, label in [(desc, \"ROOT_CAUSE_DESC\"), (cat, \"ROOT_CAUSE_CATEGORY\"), (rec, \"PREVENTION_RECOMMEND\")]:\n",
        "                start = text.find(val)\n",
        "                if start != -1:\n",
        "                    entities.append((start, start + len(val), label))\n",
        "\n",
        "        training_data.append({\"text\": text,\"entities\": entities})\n",
        "\n",
        "    return training_data"
      ],
      "metadata": {
        "id": "Y0rd9RghZszv"
      },
      "execution_count": 12,
      "outputs": []
    },
    {
      "cell_type": "code",
      "source": [
        "# Convert your structured data to spaCy training format\n",
        "spacy_training_data = convert_to_spacy_format(data)"
      ],
      "metadata": {
        "id": "nSbmGRGPYuPz"
      },
      "execution_count": 13,
      "outputs": []
    },
    {
      "cell_type": "code",
      "source": [
        "# Pretty print sample\n",
        "import pprint\n",
        "pprint.pprint(spacy_training_data[0])"
      ],
      "metadata": {
        "colab": {
          "base_uri": "https://localhost:8080/"
        },
        "id": "rxZTZlQ6aYSr",
        "outputId": "901df056-10f5-4460-e16b-82685358f267"
      },
      "execution_count": 14,
      "outputs": [
        {
          "output_type": "stream",
          "name": "stdout",
          "text": [
            "{'entities': [(109, 121, 'INCIDENT_ID'),\n",
            "              (3, 17, 'DATE'),\n",
            "              (21, 26, 'TIME'),\n",
            "              (60, 69, 'SITE'),\n",
            "              (77, 81, 'REGION'),\n",
            "              (30, 47, 'INCIDENT_TYPE'),\n",
            "              (140, 143, 'SEVERITY_LEVEL'),\n",
            "              (236, 244, 'PROCEDURE_CODE'),\n",
            "              (258, 282, 'ROOT_CAUSE_DESC'),\n",
            "              (294, 310, 'ROOT_CAUSE_CATEGORY'),\n",
            "              (329, 364, 'PREVENTION_RECOMMEND')],\n",
            " 'text': 'On March 08, 2024 at 09:01, a Equipment Failure occurred at Factory '\n",
            "         'B in the East region. The incident ID is INC-2024-001. The severity '\n",
            "         'was low. Immediate action: Contained spill and alerted hazardous '\n",
            "         'material team. Related procedures: CHEM-012. Root cause: Inadequate '\n",
            "         'safety checks (Category: procedural error). Recommendation: Review '\n",
            "         'and update safety procedures. '}\n"
          ]
        }
      ]
    },
    {
      "cell_type": "markdown",
      "source": [
        "# Split the dataset into train and dev"
      ],
      "metadata": {
        "id": "idmG2ZnhaJD9"
      }
    },
    {
      "cell_type": "code",
      "source": [
        "# Split into train and dev\n",
        "train_data, dev_data = train_test_split(spacy_training_data, test_size=0.2, random_state=42)"
      ],
      "metadata": {
        "id": "hjFNVTumZ6IJ"
      },
      "execution_count": 15,
      "outputs": []
    },
    {
      "cell_type": "markdown",
      "source": [
        "# JSON to spaCy NER Format"
      ],
      "metadata": {
        "id": "gLGv1clCbDHR"
      }
    },
    {
      "cell_type": "code",
      "source": [
        "# Utility function to convert data to .spacy binary format\n",
        "def create_spacy_binary(data, output_file, nlp):\n",
        "    doc_bin = DocBin()\n",
        "    for training_example in tqdm(data):\n",
        "      text = training_example['text']\n",
        "      labels = training_example['entities']\n",
        "      doc = nlp.make_doc(text)\n",
        "      ents = []\n",
        "\n",
        "      for start, end, label in labels:\n",
        "        span = doc.char_span(start, end, label = label, alignment_mode='contract')\n",
        "        if span is None:\n",
        "          print(\"Skipping entity\")\n",
        "        else:\n",
        "          ents.append(span)\n",
        "      filtered_ents = filter_spans(ents)\n",
        "      doc.ents = filtered_ents\n",
        "      doc_bin.add(doc)\n",
        "\n",
        "    doc_bin.to_disk(output_file)"
      ],
      "metadata": {
        "id": "ZKHirH52aLtB"
      },
      "execution_count": 18,
      "outputs": []
    },
    {
      "cell_type": "code",
      "source": [
        "# Load blank pipeline and save train/dev sets\n",
        "nlp = spacy.blank(\"en\")\n",
        "create_spacy_binary(train_data, \"train.spacy\", nlp)\n",
        "create_spacy_binary(dev_data, \"dev.spacy\", nlp)"
      ],
      "metadata": {
        "colab": {
          "base_uri": "https://localhost:8080/"
        },
        "id": "XHOCJkK2bH49",
        "outputId": "7a19842e-aa41-4545-f309-692fd40d8e02"
      },
      "execution_count": 19,
      "outputs": [
        {
          "output_type": "stream",
          "name": "stderr",
          "text": [
            "100%|██████████| 80/80 [00:00<00:00, 1350.53it/s]\n",
            "100%|██████████| 20/20 [00:00<00:00, 1285.45it/s]\n"
          ]
        }
      ]
    },
    {
      "cell_type": "markdown",
      "source": [
        "# NER Model"
      ],
      "metadata": {
        "id": "jB02QLTZciDo"
      }
    },
    {
      "cell_type": "code",
      "source": [
        "# https://spacy.io/usage/training"
      ],
      "metadata": {
        "id": "AKPYNS-Ichun"
      },
      "execution_count": 20,
      "outputs": []
    },
    {
      "cell_type": "code",
      "source": [
        "!python -m spacy init fill-config base_config.cfg config.cfg"
      ],
      "metadata": {
        "colab": {
          "base_uri": "https://localhost:8080/"
        },
        "id": "9N6BtA9tbSmV",
        "outputId": "eaf49904-ae1d-4ef5-d145-18e38aabf49b"
      },
      "execution_count": 21,
      "outputs": [
        {
          "output_type": "stream",
          "name": "stdout",
          "text": [
            "\u001b[38;5;2m✔ Auto-filled config with all values\u001b[0m\n",
            "\u001b[38;5;2m✔ Saved config\u001b[0m\n",
            "config.cfg\n",
            "You can now add your data and train your pipeline:\n",
            "python -m spacy train config.cfg --paths.train ./train.spacy --paths.dev ./dev.spacy\n"
          ]
        }
      ]
    },
    {
      "cell_type": "code",
      "source": [
        "!python -m spacy train config.cfg --output ./output --paths.train ./train.spacy --paths.dev ./dev.spacy"
      ],
      "metadata": {
        "colab": {
          "base_uri": "https://localhost:8080/"
        },
        "id": "viIRB35hc8pU",
        "outputId": "ab270542-1d36-4845-db39-5b332ac6fd92"
      },
      "execution_count": 24,
      "outputs": [
        {
          "output_type": "stream",
          "name": "stdout",
          "text": [
            "\u001b[38;5;4mℹ Saving to output directory: output\u001b[0m\n",
            "\u001b[38;5;4mℹ Using CPU\u001b[0m\n",
            "\u001b[1m\n",
            "=========================== Initializing pipeline ===========================\u001b[0m\n",
            "\u001b[38;5;2m✔ Initialized pipeline\u001b[0m\n",
            "\u001b[1m\n",
            "============================= Training pipeline =============================\u001b[0m\n",
            "\u001b[38;5;4mℹ Pipeline: ['tok2vec', 'ner']\u001b[0m\n",
            "\u001b[38;5;4mℹ Initial learn rate: 0.001\u001b[0m\n",
            "E    #       LOSS TOK2VEC  LOSS NER  ENTS_F  ENTS_P  ENTS_R  SCORE \n",
            "---  ------  ------------  --------  ------  ------  ------  ------\n",
            "  0       0          0.00     42.39    0.00    0.00    0.00    0.00\n",
            "  2     200        238.73   2495.76   87.84   86.43   89.30    0.88\n",
            "  5     400         45.98    464.29   96.61   93.45  100.00    0.97\n",
            "  8     600         50.80    479.40   96.61   93.45  100.00    0.97\n",
            " 12     800        221.39    760.25   96.61   93.45  100.00    0.97\n",
            " 18    1000         33.79    674.05   96.61   93.45  100.00    0.97\n",
            " 25    1200         26.63    846.02   96.61   93.45  100.00    0.97\n",
            " 33    1400         23.21   1043.67   96.61   93.45  100.00    0.97\n",
            " 44    1600         26.69   1298.35   96.61   93.45  100.00    0.97\n",
            " 58    1800         40.70   1542.45   96.61   93.45  100.00    0.97\n",
            " 75    2000         39.16   1849.28   96.61   93.45  100.00    0.97\n",
            "\u001b[38;5;2m✔ Saved pipeline to output directory\u001b[0m\n",
            "output/model-last\n"
          ]
        }
      ]
    },
    {
      "cell_type": "code",
      "source": [
        "ner_model = spacy.load(\"output/model-best\")"
      ],
      "metadata": {
        "id": "B0YiGNlddev0"
      },
      "execution_count": 25,
      "outputs": []
    },
    {
      "cell_type": "markdown",
      "source": [
        "# Testing the model"
      ],
      "metadata": {
        "id": "VcjPsiFpiXk8"
      }
    },
    {
      "cell_type": "code",
      "source": [
        "test_sentences = [\n",
        "    \"On April 15, 2024 at 14:30, a Gas Leak occurred at Refinery B in the North region. The incident ID is INC789012. The severity was Critical. Immediate action: Evacuate personnel. Related procedures: PR-104, PR-205. Root cause: Corroded pipeline (Category: Equipment Failure). Recommendation: Schedule regular inspections.\",\n",
        "\n",
        "    \"On May 03, 2024 at 08:15, a Chemical Spill occurred at Plant X in the South region. The incident ID is INC456789. The severity was Moderate. Immediate action: Contain spill and notify authorities. Related procedures: PR-210. Root cause: Improper storage (Category: Human Error). Recommendation: Train staff on handling procedures.\",\n",
        "\n",
        "    \"On March 22, 2024 at 19:45, a Fire occurred at Unit 3 in the Central region. The incident ID is INC111222. The severity was High. Immediate action: Activate sprinkler system. Related procedures: PR-301, PR-412. Root cause: Electrical short circuit (Category: Technical Fault). Recommendation: Upgrade old wiring.\",\n",
        "\n",
        "    \"On January 11, 2024 at 03:00, a Power Failure occurred at Facility Z in the East region. The incident ID is INC333444. The severity was Low. Immediate action: Switch to backup generator. Related procedures: PR-001. Root cause: Grid instability (Category: External Factor). Recommendation: Coordinate with power provider.\"\n",
        "]"
      ],
      "metadata": {
        "id": "HfNT4Dr8h-gy"
      },
      "execution_count": 28,
      "outputs": []
    },
    {
      "cell_type": "code",
      "source": [
        "# Predict and print results\n",
        "for text in test_sentences:\n",
        "    doc = ner_model(text)\n",
        "    print(f\"\\nText: {text}\")\n",
        "    for ent in doc.ents:\n",
        "        print(f\" → {ent.text} ({ent.label_})\")"
      ],
      "metadata": {
        "colab": {
          "base_uri": "https://localhost:8080/"
        },
        "id": "0Li9oM5yibjj",
        "outputId": "f25d9e5f-bf93-4ffb-aa1b-842f505d0ee8"
      },
      "execution_count": 29,
      "outputs": [
        {
          "output_type": "stream",
          "name": "stdout",
          "text": [
            "\n",
            "Text: On April 15, 2024 at 14:30, a Gas Leak occurred at Refinery B in the North region. The incident ID is INC789012. The severity was Critical. Immediate action: Evacuate personnel. Related procedures: PR-104, PR-205. Root cause: Corroded pipeline (Category: Equipment Failure). Recommendation: Schedule regular inspections.\n",
            " → April 15, 2024 (DATE)\n",
            " → 14:30 (TIME)\n",
            " → Gas Leak (INCIDENT_TYPE)\n",
            " → Refinery B (SITE)\n",
            " → North (REGION)\n",
            " → INC789012 (SEVERITY_LEVEL)\n",
            " → Critical (SEVERITY_LEVEL)\n",
            " → Evacuate personnel (ROOT_CAUSE_DESC)\n",
            " → PR-205 (PROCEDURE_CODE)\n",
            " → Equipment Failure (ROOT_CAUSE_CATEGORY)\n",
            " → Schedule regular inspections (PREVENTION_RECOMMEND)\n",
            "\n",
            "Text: On May 03, 2024 at 08:15, a Chemical Spill occurred at Plant X in the South region. The incident ID is INC456789. The severity was Moderate. Immediate action: Contain spill and notify authorities. Related procedures: PR-210. Root cause: Improper storage (Category: Human Error). Recommendation: Train staff on handling procedures.\n",
            " → May 03, 2024 (DATE)\n",
            " → 08:15 (TIME)\n",
            " → Chemical Spill (INCIDENT_TYPE)\n",
            " → Plant X (SITE)\n",
            " → South (REGION)\n",
            " → INC456789 (SEVERITY_LEVEL)\n",
            " → Moderate (SEVERITY_LEVEL)\n",
            " → Improper storage (ROOT_CAUSE_DESC)\n",
            " → Human Error (ROOT_CAUSE_CATEGORY)\n",
            " → Train staff on handling procedures (PREVENTION_RECOMMEND)\n",
            "\n",
            "Text: On March 22, 2024 at 19:45, a Fire occurred at Unit 3 in the Central region. The incident ID is INC111222. The severity was High. Immediate action: Activate sprinkler system. Related procedures: PR-301, PR-412. Root cause: Electrical short circuit (Category: Technical Fault). Recommendation: Upgrade old wiring.\n",
            " → March 22, 2024 (DATE)\n",
            " → 19:45 (TIME)\n",
            " → Fire occurred (INCIDENT_TYPE)\n",
            " → Unit 3 (SITE)\n",
            " → Central (REGION)\n",
            " → INC111222 (SEVERITY_LEVEL)\n",
            " → High (SEVERITY_LEVEL)\n",
            " → Activate sprinkler system (PREVENTION_RECOMMEND)\n",
            " → PR-412 (PROCEDURE_CODE)\n",
            " → Electrical short circuit (ROOT_CAUSE_DESC)\n",
            " → Technical Fault (ROOT_CAUSE_CATEGORY)\n",
            " → Upgrade old wiring (PREVENTION_RECOMMEND)\n",
            "\n",
            "Text: On January 11, 2024 at 03:00, a Power Failure occurred at Facility Z in the East region. The incident ID is INC333444. The severity was Low. Immediate action: Switch to backup generator. Related procedures: PR-001. Root cause: Grid instability (Category: External Factor). Recommendation: Coordinate with power provider.\n",
            " → January 11, 2024 (DATE)\n",
            " → 03:00 (TIME)\n",
            " → Power Failure (INCIDENT_TYPE)\n",
            " → Facility Z (SITE)\n",
            " → East (REGION)\n",
            " → INC333444 (SEVERITY_LEVEL)\n",
            " → Low (SEVERITY_LEVEL)\n",
            " → Switch to backup generator (PREVENTION_RECOMMEND)\n",
            " → Grid instability (PREVENTION_RECOMMEND)\n",
            " → External Factor) (PREVENTION_RECOMMEND)\n",
            " → Coordinate with power provider (PREVENTION_RECOMMEND)\n"
          ]
        }
      ]
    },
    {
      "cell_type": "markdown",
      "source": [
        "# Entitity Visualization"
      ],
      "metadata": {
        "id": "K47nHe5HjT7G"
      }
    },
    {
      "cell_type": "code",
      "source": [
        "# Custom color mapping\n",
        "colors = {\n",
        "    \"DATE\": \"#FFD700\",               # gold\n",
        "    \"TIME\": \"#87CEFA\",               # light blue\n",
        "    \"INCIDENT_TYPE\": \"#FF6347\",      # tomato\n",
        "    \"SITE\": \"#90EE90\",               # light green\n",
        "    \"REGION\": \"#DDA0DD\",             # plum\n",
        "    \"INCIDENT_ID\": \"#FFA07A\",        # light salmon\n",
        "    \"SEVERITY_LEVEL\": \"#B0E0E6\",     # powder blue\n",
        "    \"PROCEDURE_CODE\": \"#00CED1\",     # dark turquoise\n",
        "    \"ROOT_CAUSE_DESC\": \"#FA8072\",    # salmon\n",
        "    \"ROOT_CAUSE_CATEGORY\": \"#FFB6C1\",# light pink\n",
        "    \"PREVENTION_RECOMMEND\": \"#20B2AA\" # light sea green\n",
        "}\n",
        "\n",
        "# Visualization options\n",
        "options = {\"colors\": colors}"
      ],
      "metadata": {
        "id": "aX5HHa1qinIN"
      },
      "execution_count": 30,
      "outputs": []
    },
    {
      "cell_type": "code",
      "source": [
        "doc = ner_model(test_sentences[0])\n",
        "spacy.displacy.render(doc, style=\"ent\", options=options, jupyter=True)"
      ],
      "metadata": {
        "colab": {
          "base_uri": "https://localhost:8080/",
          "height": 212
        },
        "id": "5ql4Qy9rjcsN",
        "outputId": "a652a4d4-a5d3-4317-b683-f64b570f012a"
      },
      "execution_count": 33,
      "outputs": [
        {
          "output_type": "display_data",
          "data": {
            "text/plain": [
              "<IPython.core.display.HTML object>"
            ],
            "text/html": [
              "<span class=\"tex2jax_ignore\"><div class=\"entities\" style=\"line-height: 2.5; direction: ltr\">On \n",
              "<mark class=\"entity\" style=\"background: #FFD700; padding: 0.45em 0.6em; margin: 0 0.25em; line-height: 1; border-radius: 0.35em;\">\n",
              "    April 15, 2024\n",
              "    <span style=\"font-size: 0.8em; font-weight: bold; line-height: 1; border-radius: 0.35em; vertical-align: middle; margin-left: 0.5rem\">DATE</span>\n",
              "</mark>\n",
              " at \n",
              "<mark class=\"entity\" style=\"background: #87CEFA; padding: 0.45em 0.6em; margin: 0 0.25em; line-height: 1; border-radius: 0.35em;\">\n",
              "    14:30\n",
              "    <span style=\"font-size: 0.8em; font-weight: bold; line-height: 1; border-radius: 0.35em; vertical-align: middle; margin-left: 0.5rem\">TIME</span>\n",
              "</mark>\n",
              ", a \n",
              "<mark class=\"entity\" style=\"background: #FF6347; padding: 0.45em 0.6em; margin: 0 0.25em; line-height: 1; border-radius: 0.35em;\">\n",
              "    Gas Leak\n",
              "    <span style=\"font-size: 0.8em; font-weight: bold; line-height: 1; border-radius: 0.35em; vertical-align: middle; margin-left: 0.5rem\">INCIDENT_TYPE</span>\n",
              "</mark>\n",
              " occurred at \n",
              "<mark class=\"entity\" style=\"background: #90EE90; padding: 0.45em 0.6em; margin: 0 0.25em; line-height: 1; border-radius: 0.35em;\">\n",
              "    Refinery B\n",
              "    <span style=\"font-size: 0.8em; font-weight: bold; line-height: 1; border-radius: 0.35em; vertical-align: middle; margin-left: 0.5rem\">SITE</span>\n",
              "</mark>\n",
              " in the \n",
              "<mark class=\"entity\" style=\"background: #DDA0DD; padding: 0.45em 0.6em; margin: 0 0.25em; line-height: 1; border-radius: 0.35em;\">\n",
              "    North\n",
              "    <span style=\"font-size: 0.8em; font-weight: bold; line-height: 1; border-radius: 0.35em; vertical-align: middle; margin-left: 0.5rem\">REGION</span>\n",
              "</mark>\n",
              " region. The incident ID is \n",
              "<mark class=\"entity\" style=\"background: #B0E0E6; padding: 0.45em 0.6em; margin: 0 0.25em; line-height: 1; border-radius: 0.35em;\">\n",
              "    INC789012\n",
              "    <span style=\"font-size: 0.8em; font-weight: bold; line-height: 1; border-radius: 0.35em; vertical-align: middle; margin-left: 0.5rem\">SEVERITY_LEVEL</span>\n",
              "</mark>\n",
              ". The severity was \n",
              "<mark class=\"entity\" style=\"background: #B0E0E6; padding: 0.45em 0.6em; margin: 0 0.25em; line-height: 1; border-radius: 0.35em;\">\n",
              "    Critical\n",
              "    <span style=\"font-size: 0.8em; font-weight: bold; line-height: 1; border-radius: 0.35em; vertical-align: middle; margin-left: 0.5rem\">SEVERITY_LEVEL</span>\n",
              "</mark>\n",
              ". Immediate action: \n",
              "<mark class=\"entity\" style=\"background: #FA8072; padding: 0.45em 0.6em; margin: 0 0.25em; line-height: 1; border-radius: 0.35em;\">\n",
              "    Evacuate personnel\n",
              "    <span style=\"font-size: 0.8em; font-weight: bold; line-height: 1; border-radius: 0.35em; vertical-align: middle; margin-left: 0.5rem\">ROOT_CAUSE_DESC</span>\n",
              "</mark>\n",
              ". Related procedures: PR-104, \n",
              "<mark class=\"entity\" style=\"background: #00CED1; padding: 0.45em 0.6em; margin: 0 0.25em; line-height: 1; border-radius: 0.35em;\">\n",
              "    PR-205\n",
              "    <span style=\"font-size: 0.8em; font-weight: bold; line-height: 1; border-radius: 0.35em; vertical-align: middle; margin-left: 0.5rem\">PROCEDURE_CODE</span>\n",
              "</mark>\n",
              ". Root cause: Corroded pipeline (Category: \n",
              "<mark class=\"entity\" style=\"background: #FFB6C1; padding: 0.45em 0.6em; margin: 0 0.25em; line-height: 1; border-radius: 0.35em;\">\n",
              "    Equipment Failure\n",
              "    <span style=\"font-size: 0.8em; font-weight: bold; line-height: 1; border-radius: 0.35em; vertical-align: middle; margin-left: 0.5rem\">ROOT_CAUSE_CATEGORY</span>\n",
              "</mark>\n",
              "). Recommendation: \n",
              "<mark class=\"entity\" style=\"background: #20B2AA; padding: 0.45em 0.6em; margin: 0 0.25em; line-height: 1; border-radius: 0.35em;\">\n",
              "    Schedule regular inspections\n",
              "    <span style=\"font-size: 0.8em; font-weight: bold; line-height: 1; border-radius: 0.35em; vertical-align: middle; margin-left: 0.5rem\">PREVENTION_RECOMMEND</span>\n",
              "</mark>\n",
              ".</div></span>"
            ]
          },
          "metadata": {}
        }
      ]
    },
    {
      "cell_type": "code",
      "source": [],
      "metadata": {
        "id": "z9Bkut2Mj5Pr"
      },
      "execution_count": null,
      "outputs": []
    }
  ]
}