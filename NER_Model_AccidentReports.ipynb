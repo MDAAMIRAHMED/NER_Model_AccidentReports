{
  "nbformat": 4,
  "nbformat_minor": 0,
  "metadata": {
    "colab": {
      "provenance": [],
      "authorship_tag": "ABX9TyNWS5BxEyEihWV+V0mEL10y"
    },
    "kernelspec": {
      "name": "python3",
      "display_name": "Python 3"
    },
    "language_info": {
      "name": "python"
    }
  },
  "cells": [
    {
      "cell_type": "markdown",
      "source": [
        "# Importing Libraries"
      ],
      "metadata": {
        "id": "XZzDrJURYqjv"
      }
    },
    {
      "cell_type": "code",
      "execution_count": 8,
      "metadata": {
        "id": "ey4OKwq0YkfI"
      },
      "outputs": [],
      "source": [
        "import spacy\n",
        "from spacy.tokens import DocBin\n",
        "from spacy.util import filter_spans\n",
        "from sklearn.model_selection import train_test_split\n",
        "from tqdm import tqdm"
      ]
    },
    {
      "cell_type": "code",
      "source": [
        "!python -m spacy download en_core_web_lg"
      ],
      "metadata": {
        "colab": {
          "base_uri": "https://localhost:8080/"
        },
        "id": "MkbLAc5WdjXj",
        "outputId": "c6b0339e-1b5e-4963-c9c4-a4b1d084b93d"
      },
      "execution_count": 23,
      "outputs": [
        {
          "output_type": "stream",
          "name": "stdout",
          "text": [
            "Collecting en-core-web-lg==3.8.0\n",
            "  Downloading https://github.com/explosion/spacy-models/releases/download/en_core_web_lg-3.8.0/en_core_web_lg-3.8.0-py3-none-any.whl (400.7 MB)\n",
            "\u001b[2K     \u001b[90m━━━━━━━━━━━━━━━━━━━━━━━━━━━━━━━━━━━━━━━\u001b[0m \u001b[32m400.7/400.7 MB\u001b[0m \u001b[31m1.5 MB/s\u001b[0m eta \u001b[36m0:00:00\u001b[0m\n",
            "\u001b[?25hInstalling collected packages: en-core-web-lg\n",
            "Successfully installed en-core-web-lg-3.8.0\n",
            "\u001b[38;5;2m✔ Download and installation successful\u001b[0m\n",
            "You can now load the package via spacy.load('en_core_web_lg')\n",
            "\u001b[38;5;3m⚠ Restart to reload dependencies\u001b[0m\n",
            "If you are in a Jupyter or Colab notebook, you may need to restart Python in\n",
            "order to load all the package's dependencies. You can do this by selecting the\n",
            "'Restart kernel' or 'Restart runtime' option.\n"
          ]
        }
      ]
    },
    {
      "cell_type": "markdown",
      "source": [
        "# Importing Dataset"
      ],
      "metadata": {
        "id": "p7QBYb8GY--F"
      }
    },
    {
      "cell_type": "code",
      "source": [
        "import json\n",
        "from datetime import datetime\n",
        "# dataset-link: https://huggingface.co/datasets/MongoDB/accident_reports/blob/main/accidents_reports.json\n",
        "with open('/content/accidents_reports.json', 'r') as f:\n",
        "  data = json.load(f)"
      ],
      "metadata": {
        "id": "BAPLxYAeY-S5"
      },
      "execution_count": 9,
      "outputs": []
    },
    {
      "cell_type": "code",
      "source": [
        "data[0]"
      ],
      "metadata": {
        "colab": {
          "base_uri": "https://localhost:8080/"
        },
        "id": "-G1brmz3ZgOu",
        "outputId": "5ccef814-e61f-4f8c-e5dc-13a75ccf0392"
      },
      "execution_count": 10,
      "outputs": [
        {
          "output_type": "execute_result",
          "data": {
            "text/plain": [
              "{'incidentId': 'INC-2024-001',\n",
              " 'dateTime': '2024-03-08T09:01:41.295149',\n",
              " 'location': {'site': 'Factory B', 'region': 'East'},\n",
              " 'type': 'Equipment Failure',\n",
              " 'description': 'Equipment Failure occurred at Factory B.',\n",
              " 'severityLevel': 'low',\n",
              " 'relatedProcedures': ['CHEM-012'],\n",
              " 'immediateActions': 'Contained spill and alerted hazardous material team',\n",
              " 'rootCauses': [{'description': 'Inadequate safety checks',\n",
              "   'category': 'procedural error',\n",
              "   'preventionRecommendations': 'Review and update safety procedures'}]}"
            ]
          },
          "metadata": {},
          "execution_count": 10
        }
      ]
    },
    {
      "cell_type": "code",
      "source": [
        "# Function to extract entities and format sentence\n",
        "def convert_to_spacy_format(data):\n",
        "    training_data = []\n",
        "\n",
        "    for incident in data:\n",
        "        # Parse date and time\n",
        "        dt = datetime.fromisoformat(incident[\"dateTime\"])\n",
        "        date_str = dt.strftime(\"%B %d, %Y\")  # \"March 08, 2024\"\n",
        "        time_str = dt.strftime(\"%H:%M\")      # \"09:01\"\n",
        "\n",
        "        text = (\n",
        "            f\"On {date_str} at {time_str}, a {incident['type']} occurred at \"\n",
        "            f\"{incident['location']['site']} in the {incident['location']['region']} region. \"\n",
        "            f\"The incident ID is {incident['incidentId']}. The severity was {incident['severityLevel']}. \"\n",
        "            f\"Immediate action: {incident['immediateActions']}. Related procedures: {', '.join(incident['relatedProcedures'])}. \"\n",
        "        )\n",
        "\n",
        "        # Add root causes\n",
        "        for cause in incident[\"rootCauses\"]:\n",
        "            text += (\n",
        "                f\"Root cause: {cause['description']} (Category: {cause['category']}). \"\n",
        "                f\"Recommendation: {cause['preventionRecommendations']}. \"\n",
        "            )\n",
        "\n",
        "        # Find entity spans (simple string matching)\n",
        "        entities = []\n",
        "        entity_map = {\n",
        "            \"INCIDENT_ID\": incident[\"incidentId\"],\n",
        "            \"DATE\": date_str,\n",
        "            \"TIME\": time_str,\n",
        "            \"SITE\": incident[\"location\"][\"site\"],\n",
        "            \"REGION\": incident[\"location\"][\"region\"],\n",
        "            \"INCIDENT_TYPE\": incident[\"type\"],\n",
        "            \"SEVERITY_LEVEL\": incident[\"severityLevel\"],\n",
        "        }\n",
        "\n",
        "        for label, value in entity_map.items():\n",
        "            start = text.find(value)\n",
        "            if start != -1:\n",
        "                end = start + len(value)\n",
        "                entities.append((start, end, label))\n",
        "\n",
        "        # Related Procedures\n",
        "        for proc in incident[\"relatedProcedures\"]:\n",
        "            start = text.find(proc)\n",
        "            if start != -1:\n",
        "                entities.append((start, start + len(proc), \"PROCEDURE_CODE\"))\n",
        "\n",
        "        # Root causes\n",
        "        for cause in incident[\"rootCauses\"]:\n",
        "            desc = cause[\"description\"]\n",
        "            cat = cause[\"category\"]\n",
        "            rec = cause[\"preventionRecommendations\"]\n",
        "\n",
        "            for val, label in [(desc, \"ROOT_CAUSE_DESC\"), (cat, \"ROOT_CAUSE_CATEGORY\"), (rec, \"PREVENTION_RECOMMEND\")]:\n",
        "                start = text.find(val)\n",
        "                if start != -1:\n",
        "                    entities.append((start, start + len(val), label))\n",
        "\n",
        "        training_data.append({\"text\": text,\"entities\": entities})\n",
        "\n",
        "    return training_data"
      ],
      "metadata": {
        "id": "Y0rd9RghZszv"
      },
      "execution_count": 12,
      "outputs": []
    },
    {
      "cell_type": "code",
      "source": [
        "# Convert your structured data to spaCy training format\n",
        "spacy_training_data = convert_to_spacy_format(data)"
      ],
      "metadata": {
        "id": "nSbmGRGPYuPz"
      },
      "execution_count": 13,
      "outputs": []
    },
    {
      "cell_type": "code",
      "source": [
        "# Pretty print sample\n",
        "import pprint\n",
        "pprint.pprint(spacy_training_data[0])"
      ],
      "metadata": {
        "colab": {
          "base_uri": "https://localhost:8080/"
        },
        "id": "rxZTZlQ6aYSr",
        "outputId": "901df056-10f5-4460-e16b-82685358f267"
      },
      "execution_count": 14,
      "outputs": [
        {
          "output_type": "stream",
          "name": "stdout",
          "text": [
            "{'entities': [(109, 121, 'INCIDENT_ID'),\n",
            "              (3, 17, 'DATE'),\n",
            "              (21, 26, 'TIME'),\n",
            "              (60, 69, 'SITE'),\n",
            "              (77, 81, 'REGION'),\n",
            "              (30, 47, 'INCIDENT_TYPE'),\n",
            "              (140, 143, 'SEVERITY_LEVEL'),\n",
            "              (236, 244, 'PROCEDURE_CODE'),\n",
            "              (258, 282, 'ROOT_CAUSE_DESC'),\n",
            "              (294, 310, 'ROOT_CAUSE_CATEGORY'),\n",
            "              (329, 364, 'PREVENTION_RECOMMEND')],\n",
            " 'text': 'On March 08, 2024 at 09:01, a Equipment Failure occurred at Factory '\n",
            "         'B in the East region. The incident ID is INC-2024-001. The severity '\n",
            "         'was low. Immediate action: Contained spill and alerted hazardous '\n",
            "         'material team. Related procedures: CHEM-012. Root cause: Inadequate '\n",
            "         'safety checks (Category: procedural error). Recommendation: Review '\n",
            "         'and update safety procedures. '}\n"
          ]
        }
      ]
    },
    {
      "cell_type": "markdown",
      "source": [
        "# Split the dataset into train and dev"
      ],
      "metadata": {
        "id": "idmG2ZnhaJD9"
      }
    },
    {
      "cell_type": "code",
      "source": [
        "# Split into train and dev\n",
        "train_data, dev_data = train_test_split(spacy_training_data, test_size=0.2, random_state=42)"
      ],
      "metadata": {
        "id": "hjFNVTumZ6IJ"
      },
      "execution_count": 15,
      "outputs": []
    },
    {
      "cell_type": "markdown",
      "source": [
        "# JSON to spaCy NER Format"
      ],
      "metadata": {
        "id": "gLGv1clCbDHR"
      }
    },
    {
      "cell_type": "code",
      "source": [
        "# Utility function to convert data to .spacy binary format\n",
        "def create_spacy_binary(data, output_file, nlp):\n",
        "    doc_bin = DocBin()\n",
        "    for training_example in tqdm(data):\n",
        "      text = training_example['text']\n",
        "      labels = training_example['entities']\n",
        "      doc = nlp.make_doc(text)\n",
        "      ents = []\n",
        "\n",
        "      for start, end, label in labels:\n",
        "        span = doc.char_span(start, end, label = label, alignment_mode='contract')\n",
        "        if span is None:\n",
        "          print(\"Skipping entity\")\n",
        "        else:\n",
        "          ents.append(span)\n",
        "      filtered_ents = filter_spans(ents)\n",
        "      doc.ents = filtered_ents\n",
        "      doc_bin.add(doc)\n",
        "\n",
        "    doc_bin.to_disk(output_file)"
      ],
      "metadata": {
        "id": "ZKHirH52aLtB"
      },
      "execution_count": 18,
      "outputs": []
    },
    {
      "cell_type": "code",
      "source": [
        "# Load blank pipeline and save train/dev sets\n",
        "nlp = spacy.blank(\"en\")\n",
        "create_spacy_binary(train_data, \"train.spacy\", nlp)\n",
        "create_spacy_binary(dev_data, \"dev.spacy\", nlp)"
      ],
      "metadata": {
        "colab": {
          "base_uri": "https://localhost:8080/"
        },
        "id": "XHOCJkK2bH49",
        "outputId": "7a19842e-aa41-4545-f309-692fd40d8e02"
      },
      "execution_count": 19,
      "outputs": [
        {
          "output_type": "stream",
          "name": "stderr",
          "text": [
            "100%|██████████| 80/80 [00:00<00:00, 1350.53it/s]\n",
            "100%|██████████| 20/20 [00:00<00:00, 1285.45it/s]\n"
          ]
        }
      ]
    },
    {
      "cell_type": "markdown",
      "source": [
        "# NER Model"
      ],
      "metadata": {
        "id": "jB02QLTZciDo"
      }
    },
    {
      "cell_type": "code",
      "source": [
        "# https://spacy.io/usage/training"
      ],
      "metadata": {
        "id": "AKPYNS-Ichun"
      },
      "execution_count": 20,
      "outputs": []
    },
    {
      "cell_type": "code",
      "source": [
        "!python -m spacy init fill-config base_config.cfg config.cfg"
      ],
      "metadata": {
        "colab": {
          "base_uri": "https://localhost:8080/"
        },
        "id": "9N6BtA9tbSmV",
        "outputId": "eaf49904-ae1d-4ef5-d145-18e38aabf49b"
      },
      "execution_count": 21,
      "outputs": [
        {
          "output_type": "stream",
          "name": "stdout",
          "text": [
            "\u001b[38;5;2m✔ Auto-filled config with all values\u001b[0m\n",
            "\u001b[38;5;2m✔ Saved config\u001b[0m\n",
            "config.cfg\n",
            "You can now add your data and train your pipeline:\n",
            "python -m spacy train config.cfg --paths.train ./train.spacy --paths.dev ./dev.spacy\n"
          ]
        }
      ]
    },
    {
      "cell_type": "code",
      "source": [
        "!python -m spacy train config.cfg --output ./output --paths.train ./train.spacy --paths.dev ./dev.spacy"
      ],
      "metadata": {
        "colab": {
          "base_uri": "https://localhost:8080/"
        },
        "id": "viIRB35hc8pU",
        "outputId": "ab270542-1d36-4845-db39-5b332ac6fd92"
      },
      "execution_count": 24,
      "outputs": [
        {
          "output_type": "stream",
          "name": "stdout",
          "text": [
            "\u001b[38;5;4mℹ Saving to output directory: output\u001b[0m\n",
            "\u001b[38;5;4mℹ Using CPU\u001b[0m\n",
            "\u001b[1m\n",
            "=========================== Initializing pipeline ===========================\u001b[0m\n",
            "\u001b[38;5;2m✔ Initialized pipeline\u001b[0m\n",
            "\u001b[1m\n",
            "============================= Training pipeline =============================\u001b[0m\n",
            "\u001b[38;5;4mℹ Pipeline: ['tok2vec', 'ner']\u001b[0m\n",
            "\u001b[38;5;4mℹ Initial learn rate: 0.001\u001b[0m\n",
            "E    #       LOSS TOK2VEC  LOSS NER  ENTS_F  ENTS_P  ENTS_R  SCORE \n",
            "---  ------  ------------  --------  ------  ------  ------  ------\n",
            "  0       0          0.00     42.39    0.00    0.00    0.00    0.00\n",
            "  2     200        238.73   2495.76   87.84   86.43   89.30    0.88\n",
            "  5     400         45.98    464.29   96.61   93.45  100.00    0.97\n",
            "  8     600         50.80    479.40   96.61   93.45  100.00    0.97\n",
            " 12     800        221.39    760.25   96.61   93.45  100.00    0.97\n",
            " 18    1000         33.79    674.05   96.61   93.45  100.00    0.97\n",
            " 25    1200         26.63    846.02   96.61   93.45  100.00    0.97\n",
            " 33    1400         23.21   1043.67   96.61   93.45  100.00    0.97\n",
            " 44    1600         26.69   1298.35   96.61   93.45  100.00    0.97\n",
            " 58    1800         40.70   1542.45   96.61   93.45  100.00    0.97\n",
            " 75    2000         39.16   1849.28   96.61   93.45  100.00    0.97\n",
            "\u001b[38;5;2m✔ Saved pipeline to output directory\u001b[0m\n",
            "output/model-last\n"
          ]
        }
      ]
    },
    {
      "cell_type": "code",
      "source": [
        "ner_model = spacy.load(\"output/model-best\")"
      ],
      "metadata": {
        "id": "B0YiGNlddev0"
      },
      "execution_count": 25,
      "outputs": []
    },
    {
      "cell_type": "markdown",
      "source": [
        "# Testing the model"
      ],
      "metadata": {
        "id": "VcjPsiFpiXk8"
      }
    },
    {
      "cell_type": "code",
      "source": [
        "test_sentences = [\n",
        "    \"On April 21, 2024 at 15:45, a Fire Incident occurred at Warehouse C in the West region. The incident ID is INC-2024-002. The severity was high. Immediate action: Evacuated staff and deployed fire suppression systems. Related procedures: FIRE-101. Root cause: Faulty electrical wiring (Category: equipment malfunction). Recommendation: Inspect and replace outdated wiring.\",\n",
        "\n",
        "    \"On May 12, 2024 at 06:30, a Chemical Spill occurred at Plant D in the South region. The incident ID is INC-2024-003. The severity was critical. Immediate action: Shut down affected area and contained the leak. Related procedures: CHEM-205. Root cause: Damaged storage valve (Category: equipment failure). Recommendation: Conduct regular maintenance inspections.\",\n",
        "\n",
        "    \"On June 03, 2024 at 22:00, a Gas Leak occurred at Refinery A in the North region. The incident ID is INC-2024-004. The severity was moderate. Immediate action: Activated gas detection system and isolated the line. Related procedures: GAS-018. Root cause: Improper sealing of pipe joint (Category: human error). Recommendation: Improve staff training and supervision.\",\n",
        "\n",
        "    \"On July 17, 2024 at 11:15, a Mechanical Breakdown occurred at Unit 5 in the Central region. The incident ID is INC-2024-005. The severity was low. Immediate action: Halted operations and repaired faulty gear. Related procedures: MECH-077. Root cause: Wear and tear from prolonged use (Category: maintenance issue). Recommendation: Replace worn parts on schedule.\",\n",
        "\n",
        "    \"On August 29, 2024 at 18:20, a Power Outage occurred at Facility X in the East region. The incident ID is INC-2024-006. The severity was moderate. Immediate action: Switched to backup power supply. Related procedures: ELEC-022. Root cause: External grid failure (Category: external factor). Recommendation: Coordinate contingency plans with power provider.\"\n",
        "]"
      ],
      "metadata": {
        "id": "HfNT4Dr8h-gy"
      },
      "execution_count": 34,
      "outputs": []
    },
    {
      "cell_type": "code",
      "source": [
        "# Predict and print results\n",
        "for text in test_sentences:\n",
        "    doc = ner_model(text)\n",
        "    print(f\"\\nText: {text}\")\n",
        "    for ent in doc.ents:\n",
        "        print(f\" → {ent.text} ({ent.label_})\")"
      ],
      "metadata": {
        "colab": {
          "base_uri": "https://localhost:8080/"
        },
        "id": "0Li9oM5yibjj",
        "outputId": "d3d9d13e-210f-4976-bcf0-792e02ccf774"
      },
      "execution_count": 35,
      "outputs": [
        {
          "output_type": "stream",
          "name": "stdout",
          "text": [
            "\n",
            "Text: On April 21, 2024 at 15:45, a Fire Incident occurred at Warehouse C in the West region. The incident ID is INC-2024-002. The severity was high. Immediate action: Evacuated staff and deployed fire suppression systems. Related procedures: FIRE-101. Root cause: Faulty electrical wiring (Category: equipment malfunction). Recommendation: Inspect and replace outdated wiring.\n",
            " → April 21, 2024 (DATE)\n",
            " → 15:45 (TIME)\n",
            " → Fire Incident (INCIDENT_TYPE)\n",
            " → Warehouse C (SITE)\n",
            " → West (REGION)\n",
            " → INC-2024-002 (INCIDENT_ID)\n",
            " → high (SEVERITY_LEVEL)\n",
            " → FIRE-101 (PROCEDURE_CODE)\n",
            " → Faulty electrical wiring (ROOT_CAUSE_DESC)\n",
            " → equipment malfunction (ROOT_CAUSE_CATEGORY)\n",
            " → Inspect and replace outdated wiring (PREVENTION_RECOMMEND)\n",
            "\n",
            "Text: On May 12, 2024 at 06:30, a Chemical Spill occurred at Plant D in the South region. The incident ID is INC-2024-003. The severity was critical. Immediate action: Shut down affected area and contained the leak. Related procedures: CHEM-205. Root cause: Damaged storage valve (Category: equipment failure). Recommendation: Conduct regular maintenance inspections.\n",
            " → May 12, 2024 (DATE)\n",
            " → 06:30 (TIME)\n",
            " → Chemical Spill (INCIDENT_TYPE)\n",
            " → Plant D (SITE)\n",
            " → South (REGION)\n",
            " → INC-2024-003 (INCIDENT_ID)\n",
            " → critical (SEVERITY_LEVEL)\n",
            " → CHEM-205 (PROCEDURE_CODE)\n",
            " → Damaged storage valve (ROOT_CAUSE_DESC)\n",
            " → equipment failure (ROOT_CAUSE_CATEGORY)\n",
            " → Conduct regular maintenance inspections (PREVENTION_RECOMMEND)\n",
            "\n",
            "Text: On June 03, 2024 at 22:00, a Gas Leak occurred at Refinery A in the North region. The incident ID is INC-2024-004. The severity was moderate. Immediate action: Activated gas detection system and isolated the line. Related procedures: GAS-018. Root cause: Improper sealing of pipe joint (Category: human error). Recommendation: Improve staff training and supervision.\n",
            " → June 03, 2024 (DATE)\n",
            " → 22:00 (TIME)\n",
            " → Gas Leak (INCIDENT_TYPE)\n",
            " → Refinery A (SITE)\n",
            " → North (REGION)\n",
            " → INC-2024-004 (INCIDENT_ID)\n",
            " → moderate (SEVERITY_LEVEL)\n",
            " → Activated gas detection system (PREVENTION_RECOMMEND)\n",
            " → GAS-018. Root (PREVENTION_RECOMMEND)\n",
            " → Improper sealing of pipe joint (ROOT_CAUSE_DESC)\n",
            " → human error (ROOT_CAUSE_CATEGORY)\n",
            " → Improve staff training (PREVENTION_RECOMMEND)\n",
            "\n",
            "Text: On July 17, 2024 at 11:15, a Mechanical Breakdown occurred at Unit 5 in the Central region. The incident ID is INC-2024-005. The severity was low. Immediate action: Halted operations and repaired faulty gear. Related procedures: MECH-077. Root cause: Wear and tear from prolonged use (Category: maintenance issue). Recommendation: Replace worn parts on schedule.\n",
            " → July 17, 2024 (DATE)\n",
            " → 11:15 (TIME)\n",
            " → Mechanical Breakdown (INCIDENT_TYPE)\n",
            " → Unit 5 (SITE)\n",
            " → Central (REGION)\n",
            " → INC-2024-005 (INCIDENT_ID)\n",
            " → low (SEVERITY_LEVEL)\n",
            " → Halted operations (PREVENTION_RECOMMEND)\n",
            " → MECH-077 (PROCEDURE_CODE)\n",
            " → Wear and tear from prolonged (ROOT_CAUSE_DESC)\n",
            " → maintenance issue (ROOT_CAUSE_CATEGORY)\n",
            " → Replace worn parts on schedule (PREVENTION_RECOMMEND)\n",
            "\n",
            "Text: On August 29, 2024 at 18:20, a Power Outage occurred at Facility X in the East region. The incident ID is INC-2024-006. The severity was moderate. Immediate action: Switched to backup power supply. Related procedures: ELEC-022. Root cause: External grid failure (Category: external factor). Recommendation: Coordinate contingency plans with power provider.\n",
            " → August 29, 2024 (DATE)\n",
            " → 18:20 (TIME)\n",
            " → Power Outage (INCIDENT_TYPE)\n",
            " → Facility X (SITE)\n",
            " → East (REGION)\n",
            " → INC-2024-006 (INCIDENT_ID)\n",
            " → moderate (SEVERITY_LEVEL)\n",
            " → Switched to backup power supply (PREVENTION_RECOMMEND)\n",
            " → ELEC-022 (PROCEDURE_CODE)\n",
            " → External grid failure (ROOT_CAUSE_DESC)\n",
            " → external factor (ROOT_CAUSE_CATEGORY)\n",
            " → Coordinate contingency plans with power provider (PREVENTION_RECOMMEND)\n"
          ]
        }
      ]
    },
    {
      "cell_type": "markdown",
      "source": [
        "# Entitity Visualization"
      ],
      "metadata": {
        "id": "K47nHe5HjT7G"
      }
    },
    {
      "cell_type": "code",
      "source": [
        "# Custom color mapping\n",
        "colors = {\n",
        "    \"DATE\": \"#FFD700\",               # gold\n",
        "    \"TIME\": \"#87CEFA\",               # light blue\n",
        "    \"INCIDENT_TYPE\": \"#FF6347\",      # tomato\n",
        "    \"SITE\": \"#90EE90\",               # light green\n",
        "    \"REGION\": \"#DDA0DD\",             # plum\n",
        "    \"INCIDENT_ID\": \"#FFA07A\",        # light salmon\n",
        "    \"SEVERITY_LEVEL\": \"#B0E0E6\",     # powder blue\n",
        "    \"PROCEDURE_CODE\": \"#00CED1\",     # dark turquoise\n",
        "    \"ROOT_CAUSE_DESC\": \"#FA8072\",    # salmon\n",
        "    \"ROOT_CAUSE_CATEGORY\": \"#FFB6C1\",# light pink\n",
        "    \"PREVENTION_RECOMMEND\": \"#20B2AA\" # light sea green\n",
        "}\n",
        "\n",
        "# Visualization options\n",
        "options = {\"colors\": colors}"
      ],
      "metadata": {
        "id": "aX5HHa1qinIN"
      },
      "execution_count": 36,
      "outputs": []
    },
    {
      "cell_type": "code",
      "source": [
        "doc = ner_model(test_sentences[0])\n",
        "spacy.displacy.render(doc, style=\"ent\", options=options, jupyter=True)"
      ],
      "metadata": {
        "colab": {
          "base_uri": "https://localhost:8080/",
          "height": 192
        },
        "id": "5ql4Qy9rjcsN",
        "outputId": "f50e017b-4205-469a-e1bc-aead8bd16ab5"
      },
      "execution_count": 37,
      "outputs": [
        {
          "output_type": "display_data",
          "data": {
            "text/plain": [
              "<IPython.core.display.HTML object>"
            ],
            "text/html": [
              "<span class=\"tex2jax_ignore\"><div class=\"entities\" style=\"line-height: 2.5; direction: ltr\">On \n",
              "<mark class=\"entity\" style=\"background: #FFD700; padding: 0.45em 0.6em; margin: 0 0.25em; line-height: 1; border-radius: 0.35em;\">\n",
              "    April 21, 2024\n",
              "    <span style=\"font-size: 0.8em; font-weight: bold; line-height: 1; border-radius: 0.35em; vertical-align: middle; margin-left: 0.5rem\">DATE</span>\n",
              "</mark>\n",
              " at \n",
              "<mark class=\"entity\" style=\"background: #87CEFA; padding: 0.45em 0.6em; margin: 0 0.25em; line-height: 1; border-radius: 0.35em;\">\n",
              "    15:45\n",
              "    <span style=\"font-size: 0.8em; font-weight: bold; line-height: 1; border-radius: 0.35em; vertical-align: middle; margin-left: 0.5rem\">TIME</span>\n",
              "</mark>\n",
              ", a \n",
              "<mark class=\"entity\" style=\"background: #FF6347; padding: 0.45em 0.6em; margin: 0 0.25em; line-height: 1; border-radius: 0.35em;\">\n",
              "    Fire Incident\n",
              "    <span style=\"font-size: 0.8em; font-weight: bold; line-height: 1; border-radius: 0.35em; vertical-align: middle; margin-left: 0.5rem\">INCIDENT_TYPE</span>\n",
              "</mark>\n",
              " occurred at \n",
              "<mark class=\"entity\" style=\"background: #90EE90; padding: 0.45em 0.6em; margin: 0 0.25em; line-height: 1; border-radius: 0.35em;\">\n",
              "    Warehouse C\n",
              "    <span style=\"font-size: 0.8em; font-weight: bold; line-height: 1; border-radius: 0.35em; vertical-align: middle; margin-left: 0.5rem\">SITE</span>\n",
              "</mark>\n",
              " in the \n",
              "<mark class=\"entity\" style=\"background: #DDA0DD; padding: 0.45em 0.6em; margin: 0 0.25em; line-height: 1; border-radius: 0.35em;\">\n",
              "    West\n",
              "    <span style=\"font-size: 0.8em; font-weight: bold; line-height: 1; border-radius: 0.35em; vertical-align: middle; margin-left: 0.5rem\">REGION</span>\n",
              "</mark>\n",
              " region. The incident ID is \n",
              "<mark class=\"entity\" style=\"background: #FFA07A; padding: 0.45em 0.6em; margin: 0 0.25em; line-height: 1; border-radius: 0.35em;\">\n",
              "    INC-2024-002\n",
              "    <span style=\"font-size: 0.8em; font-weight: bold; line-height: 1; border-radius: 0.35em; vertical-align: middle; margin-left: 0.5rem\">INCIDENT_ID</span>\n",
              "</mark>\n",
              ". The severity was \n",
              "<mark class=\"entity\" style=\"background: #B0E0E6; padding: 0.45em 0.6em; margin: 0 0.25em; line-height: 1; border-radius: 0.35em;\">\n",
              "    high\n",
              "    <span style=\"font-size: 0.8em; font-weight: bold; line-height: 1; border-radius: 0.35em; vertical-align: middle; margin-left: 0.5rem\">SEVERITY_LEVEL</span>\n",
              "</mark>\n",
              ". Immediate action: Evacuated staff and deployed fire suppression systems. Related procedures: \n",
              "<mark class=\"entity\" style=\"background: #00CED1; padding: 0.45em 0.6em; margin: 0 0.25em; line-height: 1; border-radius: 0.35em;\">\n",
              "    FIRE-101\n",
              "    <span style=\"font-size: 0.8em; font-weight: bold; line-height: 1; border-radius: 0.35em; vertical-align: middle; margin-left: 0.5rem\">PROCEDURE_CODE</span>\n",
              "</mark>\n",
              ". Root cause: \n",
              "<mark class=\"entity\" style=\"background: #FA8072; padding: 0.45em 0.6em; margin: 0 0.25em; line-height: 1; border-radius: 0.35em;\">\n",
              "    Faulty electrical wiring\n",
              "    <span style=\"font-size: 0.8em; font-weight: bold; line-height: 1; border-radius: 0.35em; vertical-align: middle; margin-left: 0.5rem\">ROOT_CAUSE_DESC</span>\n",
              "</mark>\n",
              " (Category: \n",
              "<mark class=\"entity\" style=\"background: #FFB6C1; padding: 0.45em 0.6em; margin: 0 0.25em; line-height: 1; border-radius: 0.35em;\">\n",
              "    equipment malfunction\n",
              "    <span style=\"font-size: 0.8em; font-weight: bold; line-height: 1; border-radius: 0.35em; vertical-align: middle; margin-left: 0.5rem\">ROOT_CAUSE_CATEGORY</span>\n",
              "</mark>\n",
              "). Recommendation: \n",
              "<mark class=\"entity\" style=\"background: #20B2AA; padding: 0.45em 0.6em; margin: 0 0.25em; line-height: 1; border-radius: 0.35em;\">\n",
              "    Inspect and replace outdated wiring\n",
              "    <span style=\"font-size: 0.8em; font-weight: bold; line-height: 1; border-radius: 0.35em; vertical-align: middle; margin-left: 0.5rem\">PREVENTION_RECOMMEND</span>\n",
              "</mark>\n",
              ".</div></span>"
            ]
          },
          "metadata": {}
        }
      ]
    },
    {
      "cell_type": "code",
      "source": [],
      "metadata": {
        "id": "z9Bkut2Mj5Pr"
      },
      "execution_count": null,
      "outputs": []
    }
  ]
}